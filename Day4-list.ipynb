{
 "cells": [
  {
   "cell_type": "code",
   "execution_count": null,
   "id": "3651ed1e-df60-4402-b45a-a9aab8f4fbfa",
   "metadata": {},
   "outputs": [],
   "source": [
    " # List Data Type"
   ]
  },
  {
   "cell_type": "code",
   "execution_count": 24,
   "id": "175358ef-35b4-4f15-9b4a-68c0735959ea",
   "metadata": {},
   "outputs": [
    {
     "name": "stdout",
     "output_type": "stream",
     "text": [
      "['chandra', 'mouli', 'sujana']\n"
     ]
    }
   ],
   "source": [
    "students=['chandra','mouli','sujana']\n",
    "print(students)"
   ]
  },
  {
   "cell_type": "code",
   "execution_count": 28,
   "id": "3b5be649-a5b0-4e41-8260-0c163893e47f",
   "metadata": {},
   "outputs": [
    {
     "name": "stdout",
     "output_type": "stream",
     "text": [
      "chandra\n"
     ]
    }
   ],
   "source": [
    "print(students[0]) # index"
   ]
  },
  {
   "cell_type": "code",
   "execution_count": 30,
   "id": "4d581ebc-0833-4870-8da9-b68f2c6a1af3",
   "metadata": {},
   "outputs": [
    {
     "name": "stdout",
     "output_type": "stream",
     "text": [
      "sujana\n"
     ]
    }
   ],
   "source": [
    "print(students[2])"
   ]
  },
  {
   "cell_type": "code",
   "execution_count": 36,
   "id": "6e4f9d45-b63b-4fe1-9a0d-76ec4a2a96b7",
   "metadata": {},
   "outputs": [
    {
     "name": "stdout",
     "output_type": "stream",
     "text": [
      "Mouli\n"
     ]
    }
   ],
   "source": [
    "print(students[1].title())"
   ]
  },
  {
   "cell_type": "code",
   "execution_count": 38,
   "id": "6a3f43d3-d687-4363-ab36-198ffe51e36e",
   "metadata": {},
   "outputs": [
    {
     "name": "stdout",
     "output_type": "stream",
     "text": [
      "Sujana\n"
     ]
    }
   ],
   "source": [
    "print(students[2].title()"
   ]
  },
  {
   "cell_type": "code",
   "execution_count": 42,
   "id": "baf39614-ab52-4ca0-bfdb-09f81ad44710",
   "metadata": {},
   "outputs": [
    {
     "name": "stdout",
     "output_type": "stream",
     "text": [
      "['chandra', 'mouli', 'sujana', 'Ridhi']\n"
     ]
    }
   ],
   "source": [
    "# addition of new element to the list\n",
    "students.append('Ridhi')\n",
    "print(students)"
   ]
  },
  {
   "cell_type": "code",
   "execution_count": 44,
   "id": "9a5f97b5-0992-495d-9f7d-c71d8201b5c5",
   "metadata": {},
   "outputs": [
    {
     "name": "stdout",
     "output_type": "stream",
     "text": [
      "['chandra', 'mouli', 'sujana', 'Ridhi']\n"
     ]
    }
   ],
   "source": [
    "print(students)"
   ]
  },
  {
   "cell_type": "code",
   "execution_count": 46,
   "id": "3a8214b9-c31b-4ac6-bdb7-62ebae438297",
   "metadata": {},
   "outputs": [],
   "source": [
    "students.insert(4,'Varun')"
   ]
  },
  {
   "cell_type": "code",
   "execution_count": 48,
   "id": "b2e09cea-b30f-43db-8e6c-4c3330f6bcfb",
   "metadata": {},
   "outputs": [
    {
     "name": "stdout",
     "output_type": "stream",
     "text": [
      "['chandra', 'mouli', 'sujana', 'Ridhi', 'Varun']\n"
     ]
    }
   ],
   "source": [
    "print(students)\n"
   ]
  },
  {
   "cell_type": "code",
   "execution_count": 52,
   "id": "28db3799-8da7-4a5a-be98-5cf4be17f538",
   "metadata": {},
   "outputs": [
    {
     "name": "stdout",
     "output_type": "stream",
     "text": [
      "['chandra', 'mouli', 'sujana', 'Ridhi', 'Prasanna']\n"
     ]
    }
   ],
   "source": [
    "# update/ modify the list\n",
    "students[4]='Prasanna'\n",
    "print(students)"
   ]
  },
  {
   "cell_type": "code",
   "execution_count": 54,
   "id": "d7b754e7-03d0-4d87-bbaf-193877b82afa",
   "metadata": {},
   "outputs": [
    {
     "name": "stdout",
     "output_type": "stream",
     "text": [
      "['chandra', 'mouli', 'sujana', 'Ridhi']\n",
      "Prasanna\n"
     ]
    }
   ],
   "source": [
    "# Temporary deleting\n",
    "x =  students.pop()\n",
    "print(students)\n",
    "print(x)"
   ]
  },
  {
   "cell_type": "code",
   "execution_count": 56,
   "id": "b07753f3-1ae5-4640-977a-fbf7e1efb172",
   "metadata": {},
   "outputs": [
    {
     "name": "stdout",
     "output_type": "stream",
     "text": [
      "['chandra', 'mouli', 'sujana', 'Ridhi']\n"
     ]
    }
   ],
   "source": [
    "# permanant Delete\n",
    "print(students)"
   ]
  },
  {
   "cell_type": "code",
   "execution_count": 58,
   "id": "a52635ae-46a2-48ba-830a-b4bb9e2eb713",
   "metadata": {},
   "outputs": [
    {
     "name": "stdout",
     "output_type": "stream",
     "text": [
      "['chandra', 'mouli', 'sujana']\n"
     ]
    }
   ],
   "source": [
    "del students[3]\n",
    "print(students)"
   ]
  },
  {
   "cell_type": "code",
   "execution_count": null,
   "id": "b014ecf8-32af-4a97-a3cb-9de6d7557a08",
   "metadata": {},
   "outputs": [],
   "source": []
  }
 ],
 "metadata": {
  "kernelspec": {
   "display_name": "Python [conda env:base] *",
   "language": "python",
   "name": "conda-base-py"
  },
  "language_info": {
   "codemirror_mode": {
    "name": "ipython",
    "version": 3
   },
   "file_extension": ".py",
   "mimetype": "text/x-python",
   "name": "python",
   "nbconvert_exporter": "python",
   "pygments_lexer": "ipython3",
   "version": "3.12.7"
  }
 },
 "nbformat": 4,
 "nbformat_minor": 5
}
